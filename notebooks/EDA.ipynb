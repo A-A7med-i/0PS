{
 "cells": [
  {
   "cell_type": "code",
   "execution_count": null,
   "id": "1e042ba3",
   "metadata": {},
   "outputs": [],
   "source": [
    "import pandas as pd\n",
    "import random"
   ]
  },
  {
   "cell_type": "code",
   "execution_count": null,
   "id": "09e5f6f9",
   "metadata": {},
   "outputs": [],
   "source": [
    "from src.constant.constant import DATA1, NUMERICAL_COL, RAW_DATA\n",
    "from src.visualization.plot import (\n",
    "    create_box_plot,\n",
    "    create_bar_plot,\n",
    "    visualize_correlation_heatmap,\n",
    ")\n",
    "from src.preprocessing.processing import *"
   ]
  },
  {
   "cell_type": "code",
   "execution_count": null,
   "id": "48a313ff",
   "metadata": {},
   "outputs": [],
   "source": [
    "raw_data = pd.read_csv(RAW_DATA)\n",
    "final_data = pd.read_csv(DATA1)"
   ]
  },
  {
   "cell_type": "code",
   "execution_count": null,
   "id": "89b445a1",
   "metadata": {},
   "outputs": [],
   "source": [
    "raw_data.sample(3)"
   ]
  },
  {
   "cell_type": "code",
   "execution_count": null,
   "id": "b57928cb",
   "metadata": {},
   "outputs": [],
   "source": [
    "final_data.sample(3)"
   ]
  },
  {
   "cell_type": "code",
   "execution_count": null,
   "id": "baf5346c",
   "metadata": {},
   "outputs": [],
   "source": [
    "categorical_col = random.choice(\n",
    "    raw_data.select_dtypes(exclude=[\"number\"]).drop(columns=[\"user_feedback\"]).columns\n",
    ")"
   ]
  },
  {
   "cell_type": "code",
   "execution_count": null,
   "id": "29931ea2",
   "metadata": {},
   "outputs": [],
   "source": [
    "numerical_col = random.choice(NUMERICAL_COL)"
   ]
  },
  {
   "cell_type": "code",
   "execution_count": null,
   "id": "3d7c0f26",
   "metadata": {},
   "outputs": [],
   "source": [
    "create_bar_plot(raw_data, categorical_col)"
   ]
  },
  {
   "cell_type": "code",
   "execution_count": null,
   "id": "3ef51dc0",
   "metadata": {},
   "outputs": [],
   "source": [
    "create_box_plot(final_data, numerical_col)"
   ]
  },
  {
   "cell_type": "code",
   "execution_count": null,
   "id": "5aaf3995",
   "metadata": {},
   "outputs": [],
   "source": [
    "visualize_correlation_heatmap(final_data)"
   ]
  }
 ],
 "metadata": {
  "kernelspec": {
   "display_name": "MLOPS",
   "language": "python",
   "name": "python3"
  },
  "language_info": {
   "codemirror_mode": {
    "name": "ipython",
    "version": 3
   },
   "file_extension": ".py",
   "mimetype": "text/x-python",
   "name": "python",
   "nbconvert_exporter": "python",
   "pygments_lexer": "ipython3",
   "version": "3.12.3"
  }
 },
 "nbformat": 4,
 "nbformat_minor": 5
}
