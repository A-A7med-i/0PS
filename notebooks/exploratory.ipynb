{
 "cells": [
  {
   "cell_type": "code",
   "execution_count": null,
   "id": "0138554a",
   "metadata": {},
   "outputs": [],
   "source": [
    "from src.utils.helper import (\n",
    "    save_dataframe_to_csv,\n",
    "    create_categorical_mappings,\n",
    "    persist_model_to_file,\n",
    ")\n",
    "from src.data.load_data import LoadData\n",
    "from src.feature_engineering.features import (\n",
    "    engineer_company_features,\n",
    "    create_customer_clusters,\n",
    ")\n",
    "from src.constant.constant import *"
   ]
  },
  {
   "cell_type": "code",
   "execution_count": null,
   "id": "fb5e410e",
   "metadata": {},
   "outputs": [],
   "source": [
    "load_data = LoadData()"
   ]
  },
  {
   "cell_type": "code",
   "execution_count": null,
   "id": "6cf318f3",
   "metadata": {},
   "outputs": [],
   "source": [
    "load_data.make_report(REPORT1)"
   ]
  },
  {
   "cell_type": "code",
   "execution_count": null,
   "id": "2e2c86d5",
   "metadata": {},
   "outputs": [],
   "source": [
    "new_data = engineer_company_features(load_data.data)"
   ]
  },
  {
   "cell_type": "code",
   "execution_count": null,
   "id": "a15fe2d0",
   "metadata": {},
   "outputs": [],
   "source": [
    "mapping = create_categorical_mappings(new_data)"
   ]
  },
  {
   "cell_type": "code",
   "execution_count": null,
   "id": "4ab64e70",
   "metadata": {},
   "outputs": [],
   "source": [
    "new_data.head(1)"
   ]
  },
  {
   "cell_type": "code",
   "execution_count": null,
   "id": "f0eddd5c",
   "metadata": {},
   "outputs": [],
   "source": [
    "final_data, cluster_model, feature_scaler = create_customer_clusters(\n",
    "    new_data, NUMERICAL_COL, mapping\n",
    ")"
   ]
  },
  {
   "cell_type": "code",
   "execution_count": null,
   "id": "85070783",
   "metadata": {},
   "outputs": [],
   "source": [
    "persist_model_to_file(cluster_model, CLUSTER_MODEL)"
   ]
  },
  {
   "cell_type": "code",
   "execution_count": null,
   "id": "bcdc7079",
   "metadata": {},
   "outputs": [],
   "source": [
    "persist_model_to_file(feature_scaler, SCALER_MODEL)"
   ]
  },
  {
   "cell_type": "code",
   "execution_count": null,
   "id": "3f855c88",
   "metadata": {},
   "outputs": [],
   "source": [
    "save_dataframe_to_csv(final_data, DATA1)"
   ]
  }
 ],
 "metadata": {
  "kernelspec": {
   "display_name": "MLOPS",
   "language": "python",
   "name": "python3"
  },
  "language_info": {
   "codemirror_mode": {
    "name": "ipython",
    "version": 3
   },
   "file_extension": ".py",
   "mimetype": "text/x-python",
   "name": "python",
   "nbconvert_exporter": "python",
   "pygments_lexer": "ipython3",
   "version": "3.12.3"
  }
 },
 "nbformat": 4,
 "nbformat_minor": 5
}
