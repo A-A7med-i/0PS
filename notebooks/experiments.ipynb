{
 "cells": [
  {
   "cell_type": "code",
   "execution_count": 1,
   "id": "c669c989",
   "metadata": {},
   "outputs": [],
   "source": [
    "import pandas as pd"
   ]
  },
  {
   "cell_type": "code",
   "execution_count": null,
   "id": "66088ecf",
   "metadata": {},
   "outputs": [],
   "source": [
    "from src.constant.constant import DATA1\n",
    "from src.utils.helper import split_data\n",
    "from src.model.model import NeuralNetworkClassifier"
   ]
  },
  {
   "cell_type": "code",
   "execution_count": 3,
   "id": "79346963",
   "metadata": {},
   "outputs": [],
   "source": [
    "data = pd.read_csv(DATA1)"
   ]
  },
  {
   "cell_type": "code",
   "execution_count": 4,
   "id": "8cece1e4",
   "metadata": {},
   "outputs": [
    {
     "data": {
      "text/html": [
       "<div>\n",
       "<style scoped>\n",
       "    .dataframe tbody tr th:only-of-type {\n",
       "        vertical-align: middle;\n",
       "    }\n",
       "\n",
       "    .dataframe tbody tr th {\n",
       "        vertical-align: top;\n",
       "    }\n",
       "\n",
       "    .dataframe thead th {\n",
       "        text-align: right;\n",
       "    }\n",
       "</style>\n",
       "<table border=\"1\" class=\"dataframe\">\n",
       "  <thead>\n",
       "    <tr style=\"text-align: right;\">\n",
       "      <th></th>\n",
       "      <th>country</th>\n",
       "      <th>industry</th>\n",
       "      <th>ai_tool</th>\n",
       "      <th>adoption_rate</th>\n",
       "      <th>daily_active_users</th>\n",
       "      <th>age_group</th>\n",
       "      <th>company_size</th>\n",
       "      <th>company_size_numeric</th>\n",
       "      <th>user_engagement_rate</th>\n",
       "      <th>cluster label</th>\n",
       "    </tr>\n",
       "  </thead>\n",
       "  <tbody>\n",
       "    <tr>\n",
       "      <th>20864</th>\n",
       "      <td>0</td>\n",
       "      <td>6</td>\n",
       "      <td>3</td>\n",
       "      <td>-1.364068</td>\n",
       "      <td>-1.068992</td>\n",
       "      <td>2</td>\n",
       "      <td>1</td>\n",
       "      <td>-0.602940</td>\n",
       "      <td>-0.598808</td>\n",
       "      <td>1</td>\n",
       "    </tr>\n",
       "    <tr>\n",
       "      <th>132920</th>\n",
       "      <td>3</td>\n",
       "      <td>5</td>\n",
       "      <td>2</td>\n",
       "      <td>1.057712</td>\n",
       "      <td>1.164298</td>\n",
       "      <td>0</td>\n",
       "      <td>2</td>\n",
       "      <td>-0.804295</td>\n",
       "      <td>2.312499</td>\n",
       "      <td>1</td>\n",
       "    </tr>\n",
       "    <tr>\n",
       "      <th>93404</th>\n",
       "      <td>8</td>\n",
       "      <td>7</td>\n",
       "      <td>1</td>\n",
       "      <td>-0.335722</td>\n",
       "      <td>-1.653293</td>\n",
       "      <td>4</td>\n",
       "      <td>1</td>\n",
       "      <td>-0.602940</td>\n",
       "      <td>-0.658327</td>\n",
       "      <td>0</td>\n",
       "    </tr>\n",
       "  </tbody>\n",
       "</table>\n",
       "</div>"
      ],
      "text/plain": [
       "        country  industry  ai_tool  adoption_rate  daily_active_users  \\\n",
       "20864         0         6        3      -1.364068           -1.068992   \n",
       "132920        3         5        2       1.057712            1.164298   \n",
       "93404         8         7        1      -0.335722           -1.653293   \n",
       "\n",
       "        age_group  company_size  company_size_numeric  user_engagement_rate  \\\n",
       "20864           2             1             -0.602940             -0.598808   \n",
       "132920          0             2             -0.804295              2.312499   \n",
       "93404           4             1             -0.602940             -0.658327   \n",
       "\n",
       "        cluster label  \n",
       "20864               1  \n",
       "132920              1  \n",
       "93404               0  "
      ]
     },
     "execution_count": 4,
     "metadata": {},
     "output_type": "execute_result"
    }
   ],
   "source": [
    "data.sample(3)"
   ]
  },
  {
   "cell_type": "code",
   "execution_count": null,
   "id": "824d2fd7",
   "metadata": {},
   "outputs": [],
   "source": [
    "x_train, x_test, y_train, y_test = split_data(data)"
   ]
  },
  {
   "cell_type": "code",
   "execution_count": null,
   "id": "e7f58fbe",
   "metadata": {},
   "outputs": [],
   "source": [
    "x_train = np.array(x_train)\n",
    "x_test = np.array(x_test)\n",
    "y_train = np.array(y_train)\n",
    "y_test = np.array(y_test)"
   ]
  },
  {
   "cell_type": "code",
   "execution_count": null,
   "id": "4d3f541b",
   "metadata": {},
   "outputs": [],
   "source": [
    "model = NeuralNetworkClassifier()"
   ]
  },
  {
   "cell_type": "code",
   "execution_count": null,
   "id": "85c3c037",
   "metadata": {},
   "outputs": [],
   "source": [
    "model.compile_neural_network()"
   ]
  },
  {
   "cell_type": "code",
   "execution_count": null,
   "id": "4ae02be6",
   "metadata": {},
   "outputs": [],
   "source": [
    "model.train_classifier(x_train, y_train)"
   ]
  },
  {
   "cell_type": "code",
   "execution_count": null,
   "id": "d515d791",
   "metadata": {},
   "outputs": [],
   "source": [
    "test_loss, test_accuracy = model.evaluate_classifier_performance(x_test, y_test)"
   ]
  },
  {
   "cell_type": "code",
   "execution_count": null,
   "id": "4426b19a",
   "metadata": {},
   "outputs": [],
   "source": [
    "model.save_trained_classifier(\"/kaggle/working/model.keras\")"
   ]
  }
 ],
 "metadata": {
  "kernelspec": {
   "display_name": "MLOPS",
   "language": "python",
   "name": "python3"
  },
  "language_info": {
   "codemirror_mode": {
    "name": "ipython",
    "version": 3
   },
   "file_extension": ".py",
   "mimetype": "text/x-python",
   "name": "python",
   "nbconvert_exporter": "python",
   "pygments_lexer": "ipython3",
   "version": "3.12.3"
  }
 },
 "nbformat": 4,
 "nbformat_minor": 5
}
